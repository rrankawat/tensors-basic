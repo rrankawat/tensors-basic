{
  "nbformat": 4,
  "nbformat_minor": 0,
  "metadata": {
    "colab": {
      "provenance": [],
      "authorship_tag": "ABX9TyONtfvEmivtmdKewjHq9+xx",
      "include_colab_link": true
    },
    "kernelspec": {
      "name": "python3",
      "display_name": "Python 3"
    },
    "language_info": {
      "name": "python"
    }
  },
  "cells": [
    {
      "cell_type": "markdown",
      "metadata": {
        "id": "view-in-github",
        "colab_type": "text"
      },
      "source": [
        "<a href=\"https://colab.research.google.com/github/rrankawat/tensors-basic/blob/main/5_Matrix_Multiplication_and_Derivatives.ipynb\" target=\"_parent\"><img src=\"https://colab.research.google.com/assets/colab-badge.svg\" alt=\"Open In Colab\"/></a>"
      ]
    },
    {
      "cell_type": "code",
      "execution_count": 2,
      "metadata": {
        "id": "Ag-l2T3xx-mU"
      },
      "outputs": [],
      "source": [
        "import torch"
      ]
    },
    {
      "cell_type": "code",
      "source": [
        "mat_a = torch.tensor([0, 3, 5, 5, 5, 2]).view(2, 3)\n",
        "print(mat_a)\n",
        "\n",
        "mat_b = torch.tensor([3, 4, 3, -2, 4, -2]).view(3, 2)\n",
        "print(mat_b)\n",
        "\n",
        "res = torch.matmul(mat_a, mat_b)\n",
        "print(res)\n",
        "\n",
        "res = mat_a @ mat_b\n",
        "print(res)"
      ],
      "metadata": {
        "colab": {
          "base_uri": "https://localhost:8080/"
        },
        "id": "NOE6cksOyNAU",
        "outputId": "701dd6b6-b99c-45ee-de27-b00e43adcb55"
      },
      "execution_count": 8,
      "outputs": [
        {
          "output_type": "stream",
          "name": "stdout",
          "text": [
            "tensor([[0, 3, 5],\n",
            "        [5, 5, 2]])\n",
            "tensor([[ 3,  4],\n",
            "        [ 3, -2],\n",
            "        [ 4, -2]])\n",
            "tensor([[ 29, -16],\n",
            "        [ 38,   6]])\n",
            "tensor([[ 29, -16],\n",
            "        [ 38,   6]])\n"
          ]
        }
      ]
    },
    {
      "cell_type": "code",
      "source": [
        "x = torch.tensor(2.0, requires_grad=True)\n",
        "y = 9*x**4 + 2*x**3 + 3*x**2 + 6*x + 1\n",
        "y.backward()\n",
        "x.grad"
      ],
      "metadata": {
        "colab": {
          "base_uri": "https://localhost:8080/"
        },
        "id": "ONl0otwuznAe",
        "outputId": "2efc3e04-f599-4f03-a40b-0859b3fd8156"
      },
      "execution_count": 10,
      "outputs": [
        {
          "output_type": "execute_result",
          "data": {
            "text/plain": [
              "tensor(330.)"
            ]
          },
          "metadata": {},
          "execution_count": 10
        }
      ]
    },
    {
      "cell_type": "code",
      "source": [
        "x = torch.tensor(1.0, requires_grad=True)\n",
        "z = torch.tensor(2.0, requires_grad=True)\n",
        "y = x**2 + z**3\n",
        "y.backward()\n",
        "print(x.grad)\n",
        "print(z.grad)"
      ],
      "metadata": {
        "colab": {
          "base_uri": "https://localhost:8080/"
        },
        "id": "he96Ita018Al",
        "outputId": "cfd9b64a-4792-4062-803f-91135ff7c479"
      },
      "execution_count": 12,
      "outputs": [
        {
          "output_type": "stream",
          "name": "stdout",
          "text": [
            "tensor(2.)\n",
            "tensor(12.)\n"
          ]
        }
      ]
    }
  ]
}