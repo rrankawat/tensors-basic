{
  "nbformat": 4,
  "nbformat_minor": 0,
  "metadata": {
    "colab": {
      "provenance": [],
      "authorship_tag": "ABX9TyO6cgTYPfKPUcTUDW1Gdpqk",
      "include_colab_link": true
    },
    "kernelspec": {
      "name": "python3",
      "display_name": "Python 3"
    },
    "language_info": {
      "name": "python"
    }
  },
  "cells": [
    {
      "cell_type": "markdown",
      "metadata": {
        "id": "view-in-github",
        "colab_type": "text"
      },
      "source": [
        "<a href=\"https://colab.research.google.com/github/rrankawat/tensors-basic/blob/main/4_Slicing_3D_Tensors.ipynb\" target=\"_parent\"><img src=\"https://colab.research.google.com/assets/colab-badge.svg\" alt=\"Open In Colab\"/></a>"
      ]
    },
    {
      "cell_type": "code",
      "execution_count": 2,
      "metadata": {
        "id": "Zyqhe7tQuwJ2"
      },
      "outputs": [],
      "source": [
        "import torch"
      ]
    },
    {
      "cell_type": "code",
      "source": [
        "x = torch.arange(18).view(3, 2, 3)\n",
        "\n",
        "print(x)\n",
        "print(x[1, 1, 1])"
      ],
      "metadata": {
        "colab": {
          "base_uri": "https://localhost:8080/"
        },
        "id": "pOYmQe_VvLyl",
        "outputId": "1a7ac4c2-4b14-46e0-9b93-497a4fdc5d2e"
      },
      "execution_count": 5,
      "outputs": [
        {
          "output_type": "stream",
          "name": "stdout",
          "text": [
            "tensor([[[ 0,  1,  2],\n",
            "         [ 3,  4,  5]],\n",
            "\n",
            "        [[ 6,  7,  8],\n",
            "         [ 9, 10, 11]],\n",
            "\n",
            "        [[12, 13, 14],\n",
            "         [15, 16, 17]]])\n",
            "tensor(10)\n"
          ]
        }
      ]
    },
    {
      "cell_type": "code",
      "source": [
        "# print(x[1, 0:2, 0:3])\n",
        "print(x[1, :, :])"
      ],
      "metadata": {
        "colab": {
          "base_uri": "https://localhost:8080/"
        },
        "id": "3PyFRC8SwtIr",
        "outputId": "3c2b0443-7609-4f56-f05d-5900037a3fdd"
      },
      "execution_count": 11,
      "outputs": [
        {
          "output_type": "stream",
          "name": "stdout",
          "text": [
            "tensor([[ 6,  7,  8],\n",
            "        [ 9, 10, 11]])\n"
          ]
        }
      ]
    }
  ]
}